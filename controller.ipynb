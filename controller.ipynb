{
 "cells": [
  {
   "cell_type": "code",
   "execution_count": null,
   "metadata": {},
   "outputs": [],
   "source": [
    "#libraries to import\n",
    "import socket\n",
    "import logging\n",
    "import boto3\n",
    "from botocore.exceptions import ClientError\n",
    "\n",
    "ec2_client = boto3.client('ec2', region_name='us-east-1')\n",
    "ec2_resrc=boto3.resource('ec2',region_name='us-east-1') \n",
    "\n",
    "#ec2 functionalities\n",
    "\n",
    "#definitions of constants\n",
    "MAX_APP_EC2=19\n",
    "MIN_APP_EC2=0\n",
    "KEY_PAIR=0\n",
    "SEC_GROUP_ID=0\n",
    "APP_TIER_PREFIX='app_tier_ec2'\n",
    "\n",
    "#launch ec2 instance\n",
    "#image id is the AMI given in the project description on Canvas\n",
    "\n",
    "def create_instance(key_pair,security_group_id, img_id='ami-0bb1040fdb5a076bc',min=1,max=1):\n",
    "    instance_list=ec2_resrc.create_instances(\n",
    "        ImageID=img_id,\n",
    "        MinCount=min,\n",
    "        MaxCount=max,\n",
    "        InstanceType='t2.micro',\n",
    "        KeyName=key_pair,\n",
    "        SecurityGroupIds=[security_group_id],\n",
    "        #UserData=USERDATA, --> needed to start web tier automatically (write bash script --> automates the process of web tier starting .sh file )\n",
    "        #IamInstanceProfile=INSTANCE_PROFILE --> google\n",
    "    )\n",
    "\n",
    "    #creating instance tags for each instance created by storing values as {'app_tier_ec2',instance number} until we arrive at 19 instances\n",
    "    for i in range(max):\n",
    "        j=i+1\n",
    "        inst_id=instance_list[i]\n",
    "        print(inst_id)\n",
    "        ec2_resrc.create_tags(Resources=[inst_id],\n",
    "        Tags=[{\n",
    "            'Key':'Name',\n",
    "            'Value':'{}{}'.format(APP_TIER_PREFIX,j)\n",
    "        },\n",
    "        ])\n",
    "\n",
    "\n",
    "\n",
    "\n",
    "\n",
    "\n",
    "    \n",
    "\n",
    "\n",
    "\n",
    "    \n"
   ]
  }
 ],
 "metadata": {
  "kernelspec": {
   "display_name": "Python 3.10.7 64-bit",
   "language": "python",
   "name": "python3"
  },
  "language_info": {
   "name": "python",
   "version": "3.10.7"
  },
  "orig_nbformat": 4,
  "vscode": {
   "interpreter": {
    "hash": "8925120094c30cfcf52475a53e76e9e54f965c4e5eeb7d39eacd98c85315eb39"
   }
  }
 },
 "nbformat": 4,
 "nbformat_minor": 2
}
